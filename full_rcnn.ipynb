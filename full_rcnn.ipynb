{
  "cells": [
    {
      "cell_type": "markdown",
      "metadata": {
        "id": "view-in-github",
        "colab_type": "text"
      },
      "source": [
        "<a href=\"https://colab.research.google.com/github/kumar6rishabh/RCNN-from-scratch/blob/main/full_rcnn.ipynb\" target=\"_parent\"><img src=\"https://colab.research.google.com/assets/colab-badge.svg\" alt=\"Open In Colab\"/></a>"
      ]
    },
    {
      "cell_type": "code",
      "execution_count": null,
      "metadata": {
        "id": "FFMLPQrfImSX"
      },
      "outputs": [],
      "source": [
        "#"
      ]
    },
    {
      "cell_type": "code",
      "execution_count": null,
      "metadata": {
        "colab": {
          "base_uri": "https://localhost:8080/"
        },
        "id": "_ByUIUxtIuPv",
        "outputId": "a9973e43-6c24-460c-ff8f-87da7e4c7a86"
      },
      "outputs": [
        {
          "output_type": "stream",
          "name": "stdout",
          "text": [
            "Looking in indexes: https://pypi.org/simple, https://us-python.pkg.dev/colab-wheels/public/simple/\n",
            "Requirement already satisfied: kaggle in /usr/local/lib/python3.7/dist-packages (1.5.12)\n",
            "Requirement already satisfied: certifi in /usr/local/lib/python3.7/dist-packages (from kaggle) (2022.6.15)\n",
            "Requirement already satisfied: requests in /usr/local/lib/python3.7/dist-packages (from kaggle) (2.23.0)\n",
            "Requirement already satisfied: python-dateutil in /usr/local/lib/python3.7/dist-packages (from kaggle) (2.8.2)\n",
            "Requirement already satisfied: python-slugify in /usr/local/lib/python3.7/dist-packages (from kaggle) (6.1.2)\n",
            "Requirement already satisfied: urllib3 in /usr/local/lib/python3.7/dist-packages (from kaggle) (1.24.3)\n",
            "Requirement already satisfied: tqdm in /usr/local/lib/python3.7/dist-packages (from kaggle) (4.64.1)\n",
            "Requirement already satisfied: six>=1.10 in /usr/local/lib/python3.7/dist-packages (from kaggle) (1.15.0)\n",
            "Requirement already satisfied: text-unidecode>=1.3 in /usr/local/lib/python3.7/dist-packages (from python-slugify->kaggle) (1.3)\n",
            "Requirement already satisfied: idna<3,>=2.5 in /usr/local/lib/python3.7/dist-packages (from requests->kaggle) (2.10)\n",
            "Requirement already satisfied: chardet<4,>=3.0.2 in /usr/local/lib/python3.7/dist-packages (from requests->kaggle) (3.0.4)\n"
          ]
        }
      ],
      "source": [
        "!pip install kaggle\n",
        "!mkdir ~/.kaggle\n",
        "!cp kaggle.json ~/.kaggle/\n",
        "!chmod 600 ~/.kaggle/kaggle.json"
      ]
    },
    {
      "cell_type": "code",
      "execution_count": null,
      "metadata": {
        "colab": {
          "base_uri": "https://localhost:8080/"
        },
        "id": "hZnD28kYIxWY",
        "outputId": "0b0080bd-8f05-4563-84d4-49e16d86e07f"
      },
      "outputs": [
        {
          "output_type": "stream",
          "name": "stdout",
          "text": [
            "Downloading chess-piece-detection.zip to /content\n",
            " 94% 156M/166M [00:01<00:00, 146MB/s]\n",
            "100% 166M/166M [00:01<00:00, 152MB/s]\n"
          ]
        }
      ],
      "source": [
        "!kaggle datasets download -d tannergi/chess-piece-detection"
      ]
    },
    {
      "cell_type": "code",
      "execution_count": null,
      "metadata": {
        "id": "9ujT_z9MIzMZ"
      },
      "outputs": [],
      "source": [
        "!unzip *.zip"
      ]
    },
    {
      "cell_type": "code",
      "execution_count": null,
      "metadata": {
        "id": "HkmJxJ1xI12K"
      },
      "outputs": [],
      "source": [
        "import os\n",
        "import numpy as np\n",
        "import pandas as pd\n",
        "import bs4\n",
        "import lxml\n",
        "import cv2\n",
        "from PIL import Image\n",
        "from google.colab.patches import cv2_imshow\n",
        "import pickle\n",
        "import gc\n",
        "import matplotlib.pyplot as plt\n",
        "from sklearn.model_selection import train_test_split\n",
        "from sklearn import svm\n",
        "\n",
        "from bs4 import BeautifulSoup as bs\n",
        "\n",
        "import torch\n",
        "import torch.nn as nn\n",
        "from torchvision import models"
      ]
    },
    {
      "cell_type": "code",
      "execution_count": null,
      "metadata": {
        "id": "P4Qe8zTlI4nE"
      },
      "outputs": [],
      "source": [
        "imgs = os.listdir(\"/content/Chess Detection/images\")"
      ]
    },
    {
      "cell_type": "code",
      "execution_count": null,
      "metadata": {
        "id": "pIKP4dAEI7ab"
      },
      "outputs": [],
      "source": [
        "annos = sorted(os.listdir(\"/content/Chess Detection/annotations\"))"
      ]
    },
    {
      "cell_type": "code",
      "execution_count": null,
      "metadata": {
        "id": "6UHPQTVeI9dL"
      },
      "outputs": [],
      "source": [
        "df = None"
      ]
    },
    {
      "cell_type": "code",
      "execution_count": null,
      "metadata": {
        "id": "S4XOuu9JI_TR"
      },
      "outputs": [],
      "source": [
        "train_img_inds , val_img_inds = train_test_split(range(len(imgs)) , test_size = 0.1 , random_state = 1234)"
      ]
    },
    {
      "cell_type": "code",
      "execution_count": null,
      "metadata": {
        "id": "XuZdY57xJIS4"
      },
      "outputs": [],
      "source": [
        "def objects(f , df):\n",
        "    fln = f.split(\".\")[0]\n",
        "    f = open(\"/content/Chess Detection/annotations/\" + f , \"r\")\n",
        "    lines = f.readlines()\n",
        "    content = \" \".join(lines)\n",
        "    bs_content = bs(content , \"lxml\")\n",
        "    lis = bs_content.find_all(\"object\")\n",
        "    names_lis = bs_content.find_all(\"name\")\n",
        "    xmin_lis = bs_content.find_all(\"xmin\")\n",
        "    xmax_lis = bs_content.find_all(\"xmax\")\n",
        "    ymin_lis = bs_content.find_all(\"ymin\")\n",
        "    ymax_lis = bs_content.find_all(\"ymax\")\n",
        "    names = list(map(lambda x : x.text , names_lis))\n",
        "    xmin = list(map(lambda x : int(x.text) , xmin_lis))\n",
        "    xmax = list(map(lambda x : int(x.text) , xmax_lis))\n",
        "    ymin = list(map(lambda x : int(x.text) , ymin_lis))\n",
        "    ymax = list(map(lambda x : int(x.text) , ymax_lis))\n",
        "    data = {\"fln\" : fln , \"name\" : names , \"xmin\" : xmin , \"xmax\" : xmax , \"ymin\" : ymin , \"ymax\" : ymax}\n",
        "    if df is None:\n",
        "        df = pd.DataFrame(data)\n",
        "    else:\n",
        "        tp = pd.DataFrame(data)\n",
        "        df = pd.concat([df , tp] , ignore_index = True , axis = 0)\n",
        "    return df"
      ]
    },
    {
      "cell_type": "code",
      "execution_count": null,
      "metadata": {
        "id": "ur21d0o6JNPq"
      },
      "outputs": [],
      "source": [
        "for ann in annos:\n",
        "    df = objects(ann , df)"
      ]
    },
    {
      "cell_type": "code",
      "execution_count": null,
      "metadata": {
        "colab": {
          "base_uri": "https://localhost:8080/",
          "height": 206
        },
        "id": "Pg4bi0t5JQSI",
        "outputId": "594d4dbb-4a92-4e38-d3a0-836aafd76c5c"
      },
      "outputs": [
        {
          "output_type": "execute_result",
          "data": {
            "text/plain": [
              "        fln          name  xmin  xmax  ymin  ymax\n",
              "0  IMG_1989    white-rook  1780  2319   573  1442\n",
              "1  IMG_1990    white-rook  1880  2383  1052  1532\n",
              "2  IMG_1991    white-rook  1325  1564  1112  1378\n",
              "3  IMG_1992  white-knight  1613  2001   342  1098\n",
              "4  IMG_1993  white-knight  1795  2165   880  1280"
            ],
            "text/html": [
              "\n",
              "  <div id=\"df-1c6b25cb-a650-47d3-bfef-7811df473dc8\">\n",
              "    <div class=\"colab-df-container\">\n",
              "      <div>\n",
              "<style scoped>\n",
              "    .dataframe tbody tr th:only-of-type {\n",
              "        vertical-align: middle;\n",
              "    }\n",
              "\n",
              "    .dataframe tbody tr th {\n",
              "        vertical-align: top;\n",
              "    }\n",
              "\n",
              "    .dataframe thead th {\n",
              "        text-align: right;\n",
              "    }\n",
              "</style>\n",
              "<table border=\"1\" class=\"dataframe\">\n",
              "  <thead>\n",
              "    <tr style=\"text-align: right;\">\n",
              "      <th></th>\n",
              "      <th>fln</th>\n",
              "      <th>name</th>\n",
              "      <th>xmin</th>\n",
              "      <th>xmax</th>\n",
              "      <th>ymin</th>\n",
              "      <th>ymax</th>\n",
              "    </tr>\n",
              "  </thead>\n",
              "  <tbody>\n",
              "    <tr>\n",
              "      <th>0</th>\n",
              "      <td>IMG_1989</td>\n",
              "      <td>white-rook</td>\n",
              "      <td>1780</td>\n",
              "      <td>2319</td>\n",
              "      <td>573</td>\n",
              "      <td>1442</td>\n",
              "    </tr>\n",
              "    <tr>\n",
              "      <th>1</th>\n",
              "      <td>IMG_1990</td>\n",
              "      <td>white-rook</td>\n",
              "      <td>1880</td>\n",
              "      <td>2383</td>\n",
              "      <td>1052</td>\n",
              "      <td>1532</td>\n",
              "    </tr>\n",
              "    <tr>\n",
              "      <th>2</th>\n",
              "      <td>IMG_1991</td>\n",
              "      <td>white-rook</td>\n",
              "      <td>1325</td>\n",
              "      <td>1564</td>\n",
              "      <td>1112</td>\n",
              "      <td>1378</td>\n",
              "    </tr>\n",
              "    <tr>\n",
              "      <th>3</th>\n",
              "      <td>IMG_1992</td>\n",
              "      <td>white-knight</td>\n",
              "      <td>1613</td>\n",
              "      <td>2001</td>\n",
              "      <td>342</td>\n",
              "      <td>1098</td>\n",
              "    </tr>\n",
              "    <tr>\n",
              "      <th>4</th>\n",
              "      <td>IMG_1993</td>\n",
              "      <td>white-knight</td>\n",
              "      <td>1795</td>\n",
              "      <td>2165</td>\n",
              "      <td>880</td>\n",
              "      <td>1280</td>\n",
              "    </tr>\n",
              "  </tbody>\n",
              "</table>\n",
              "</div>\n",
              "      <button class=\"colab-df-convert\" onclick=\"convertToInteractive('df-1c6b25cb-a650-47d3-bfef-7811df473dc8')\"\n",
              "              title=\"Convert this dataframe to an interactive table.\"\n",
              "              style=\"display:none;\">\n",
              "        \n",
              "  <svg xmlns=\"http://www.w3.org/2000/svg\" height=\"24px\"viewBox=\"0 0 24 24\"\n",
              "       width=\"24px\">\n",
              "    <path d=\"M0 0h24v24H0V0z\" fill=\"none\"/>\n",
              "    <path d=\"M18.56 5.44l.94 2.06.94-2.06 2.06-.94-2.06-.94-.94-2.06-.94 2.06-2.06.94zm-11 1L8.5 8.5l.94-2.06 2.06-.94-2.06-.94L8.5 2.5l-.94 2.06-2.06.94zm10 10l.94 2.06.94-2.06 2.06-.94-2.06-.94-.94-2.06-.94 2.06-2.06.94z\"/><path d=\"M17.41 7.96l-1.37-1.37c-.4-.4-.92-.59-1.43-.59-.52 0-1.04.2-1.43.59L10.3 9.45l-7.72 7.72c-.78.78-.78 2.05 0 2.83L4 21.41c.39.39.9.59 1.41.59.51 0 1.02-.2 1.41-.59l7.78-7.78 2.81-2.81c.8-.78.8-2.07 0-2.86zM5.41 20L4 18.59l7.72-7.72 1.47 1.35L5.41 20z\"/>\n",
              "  </svg>\n",
              "      </button>\n",
              "      \n",
              "  <style>\n",
              "    .colab-df-container {\n",
              "      display:flex;\n",
              "      flex-wrap:wrap;\n",
              "      gap: 12px;\n",
              "    }\n",
              "\n",
              "    .colab-df-convert {\n",
              "      background-color: #E8F0FE;\n",
              "      border: none;\n",
              "      border-radius: 50%;\n",
              "      cursor: pointer;\n",
              "      display: none;\n",
              "      fill: #1967D2;\n",
              "      height: 32px;\n",
              "      padding: 0 0 0 0;\n",
              "      width: 32px;\n",
              "    }\n",
              "\n",
              "    .colab-df-convert:hover {\n",
              "      background-color: #E2EBFA;\n",
              "      box-shadow: 0px 1px 2px rgba(60, 64, 67, 0.3), 0px 1px 3px 1px rgba(60, 64, 67, 0.15);\n",
              "      fill: #174EA6;\n",
              "    }\n",
              "\n",
              "    [theme=dark] .colab-df-convert {\n",
              "      background-color: #3B4455;\n",
              "      fill: #D2E3FC;\n",
              "    }\n",
              "\n",
              "    [theme=dark] .colab-df-convert:hover {\n",
              "      background-color: #434B5C;\n",
              "      box-shadow: 0px 1px 3px 1px rgba(0, 0, 0, 0.15);\n",
              "      filter: drop-shadow(0px 1px 2px rgba(0, 0, 0, 0.3));\n",
              "      fill: #FFFFFF;\n",
              "    }\n",
              "  </style>\n",
              "\n",
              "      <script>\n",
              "        const buttonEl =\n",
              "          document.querySelector('#df-1c6b25cb-a650-47d3-bfef-7811df473dc8 button.colab-df-convert');\n",
              "        buttonEl.style.display =\n",
              "          google.colab.kernel.accessAllowed ? 'block' : 'none';\n",
              "\n",
              "        async function convertToInteractive(key) {\n",
              "          const element = document.querySelector('#df-1c6b25cb-a650-47d3-bfef-7811df473dc8');\n",
              "          const dataTable =\n",
              "            await google.colab.kernel.invokeFunction('convertToInteractive',\n",
              "                                                     [key], {});\n",
              "          if (!dataTable) return;\n",
              "\n",
              "          const docLinkHtml = 'Like what you see? Visit the ' +\n",
              "            '<a target=\"_blank\" href=https://colab.research.google.com/notebooks/data_table.ipynb>data table notebook</a>'\n",
              "            + ' to learn more about interactive tables.';\n",
              "          element.innerHTML = '';\n",
              "          dataTable['output_type'] = 'display_data';\n",
              "          await google.colab.output.renderOutput(dataTable, element);\n",
              "          const docLink = document.createElement('div');\n",
              "          docLink.innerHTML = docLinkHtml;\n",
              "          element.appendChild(docLink);\n",
              "        }\n",
              "      </script>\n",
              "    </div>\n",
              "  </div>\n",
              "  "
            ]
          },
          "metadata": {},
          "execution_count": 12
        }
      ],
      "source": [
        "df.head()"
      ]
    },
    {
      "cell_type": "code",
      "execution_count": null,
      "metadata": {
        "id": "620wC6NrJSp1"
      },
      "outputs": [],
      "source": [
        "def get_iou(rec , truths):\n",
        "  x11 , y11 , x12 , y12 = rec[0] , rec[1] , rec[0] + rec[2] , rec[1] + rec[3]\n",
        "  x21 , y21 , x22 , y22 = truths[0] , truths[1] , truths[2] , truths[3]\n",
        "  x1 , y1 , x2 , y2 = max(x11 , x21) , max(y11 , y21) , min(x12 , x22) , min(y12 , y22)\n",
        "  intersection = max(0 , x2 - x1) * max(0 , y2 - y1)\n",
        "  area1 = (x12 - x11) * (y12 - y11)\n",
        "  area2 = (x22 - x21) * (y22 - y21)\n",
        "  union = area1 + area2 - intersection\n",
        "  return intersection / union"
      ]
    },
    {
      "cell_type": "code",
      "execution_count": null,
      "metadata": {
        "id": "PxsOur_SJU4Y"
      },
      "outputs": [],
      "source": [
        "img_to_prop = {}"
      ]
    },
    {
      "cell_type": "code",
      "execution_count": null,
      "metadata": {
        "id": "augzutT5JWj-"
      },
      "outputs": [],
      "source": [
        "for i , ig in enumerate(imgs):\n",
        "  all_white = []\n",
        "  all_black = []\n",
        "  all_neg = []\n",
        "  img = cv2.imread(\"/content/Chess Detection/images/\" + ig)\n",
        "  img = cv2.resize(img , (500 , 281))\n",
        "  subset_df = df[df.fln == ig.split(\".\")[0]]\n",
        "  ss = cv2.ximgproc.segmentation.createSelectiveSearchSegmentation()\n",
        "  ss.setBaseImage(img)\n",
        "  ss.switchToSelectiveSearchQuality()\n",
        "  rects = ss.process()\n",
        "  for j , rec in enumerate(rects):\n",
        "    if len(all_white) == 100 or len(all_black) == 100:\n",
        "      break\n",
        "    ious = []\n",
        "    for t in range(subset_df.shape[0]):\n",
        "      _ , name , xmin , xmax , ymin , ymax = subset_df.iloc[t]\n",
        "      truths = [int(xmin / 8) , int(ymin / 8) , int(xmax / 8) , int(ymax / 8)]\n",
        "      iou = get_iou(rec , truths)\n",
        "      ious.append([iou , truths , name])\n",
        "    for one_iou in ious:\n",
        "      iou , truths , name = one_iou\n",
        "      if iou > 0.7 and \"white\" in name:\n",
        "        all_white.append([rec , truths])\n",
        "        break\n",
        "      elif iou > 0.7 and \"black\" in name:\n",
        "        all_black.append([rec , truths])\n",
        "        break\n",
        "    for one_iou in ious:\n",
        "      iou , truths , name = one_iou\n",
        "      if iou > 0.3:\n",
        "        break\n",
        "    all_neg.append([rec , truths])\n",
        "  img_to_prop[ig] = [all_white , all_black , all_neg]\n",
        "  print(i , \" done\")"
      ]
    },
    {
      "cell_type": "code",
      "execution_count": null,
      "metadata": {
        "id": "AN1ixT9KRLbJ"
      },
      "outputs": [],
      "source": [
        "ff = open(\"data.pkl\" , \"wb\")\n",
        "pickle.dump(img_to_prop , ff)\n",
        "ff.close()"
      ]
    },
    {
      "cell_type": "code",
      "execution_count": null,
      "metadata": {
        "id": "8-M8HktV5aDx"
      },
      "outputs": [],
      "source": [
        "a_file = open(\"/content/drive/MyDrive/pytorch/practise/rcnn/data.pkl\", \"rb\")\n",
        "img_to_prop = pickle.load(a_file)"
      ]
    },
    {
      "cell_type": "code",
      "execution_count": null,
      "metadata": {
        "colab": {
          "base_uri": "https://localhost:8080/"
        },
        "id": "yxzvpDwjarTd",
        "outputId": "9d41b24e-3e13-4537-e4c5-53f7e4178ed6"
      },
      "outputs": [
        {
          "output_type": "stream",
          "name": "stderr",
          "text": [
            "/usr/local/lib/python3.7/dist-packages/torchvision/models/_utils.py:209: UserWarning: The parameter 'pretrained' is deprecated since 0.13 and will be removed in 0.15, please use 'weights' instead.\n",
            "  f\"The parameter '{pretrained_param}' is deprecated since 0.13 and will be removed in 0.15, \"\n",
            "/usr/local/lib/python3.7/dist-packages/torchvision/models/_utils.py:223: UserWarning: Arguments other than a weight enum or `None` for 'weights' are deprecated since 0.13 and will be removed in 0.15. The current behavior is equivalent to passing `weights=ResNet18_Weights.IMAGENET1K_V1`. You can also use `weights=ResNet18_Weights.DEFAULT` to get the most up-to-date weights.\n",
            "  warnings.warn(msg)\n"
          ]
        }
      ],
      "source": [
        "model = models.resnet18(pretrained = True)"
      ]
    },
    {
      "cell_type": "code",
      "execution_count": null,
      "metadata": {
        "id": "OC2sIKEaavoi"
      },
      "outputs": [],
      "source": [
        "tot_fr = model.fc.in_features"
      ]
    },
    {
      "cell_type": "code",
      "execution_count": null,
      "metadata": {
        "id": "QXrssx1uaxFF"
      },
      "outputs": [],
      "source": [
        "class Identity(nn.Module):\n",
        "  def __init__(self):\n",
        "    super(Identity , self).__init__()\n",
        "    \n",
        "  def forward(self , x):\n",
        "    return x"
      ]
    },
    {
      "cell_type": "code",
      "execution_count": null,
      "metadata": {
        "id": "kUoVGhKOazgT"
      },
      "outputs": [],
      "source": [
        "class C_Layer(nn.Module):\n",
        "  def __init__(self , tot_fr):\n",
        "    super(C_Layer , self).__init__()\n",
        "    self.layer1 = nn.Linear(tot_fr , 1)\n",
        "    self.sig = nn.Sigmoid()\n",
        "  def forward(self , x):\n",
        "    x = self.layer1(x)\n",
        "    x = self.sig(x)\n",
        "    return x"
      ]
    },
    {
      "cell_type": "code",
      "execution_count": null,
      "metadata": {
        "id": "dPUmRgeIa5No"
      },
      "outputs": [],
      "source": [
        "class R_Layer(nn.Module):\n",
        "  def __init__(self , tot_fr):\n",
        "    super(R_Layer , self).__init__()\n",
        "    self.layer1 = nn.Linear(tot_fr , 4)\n",
        "  def forward(self , x):\n",
        "    x = self.layer1(x)\n",
        "    return x"
      ]
    },
    {
      "cell_type": "code",
      "execution_count": null,
      "metadata": {
        "colab": {
          "base_uri": "https://localhost:8080/"
        },
        "id": "U0GrFLJFbga6",
        "outputId": "2fd8bf8c-6b27-438e-8ba3-a558205db489"
      },
      "outputs": [
        {
          "output_type": "execute_result",
          "data": {
            "text/plain": [
              "device(type='cpu')"
            ]
          },
          "metadata": {},
          "execution_count": 100
        }
      ],
      "source": [
        "device = torch.device(\"cuda\" if torch.cuda.is_available() else \"cpu\")\n",
        "device"
      ]
    },
    {
      "cell_type": "code",
      "execution_count": null,
      "metadata": {
        "id": "-KB8idnFbirG"
      },
      "outputs": [],
      "source": [
        "model.fc = Identity()\n",
        "c_lay = C_Layer(tot_fr)\n",
        "r_lay = R_Layer(tot_fr)"
      ]
    },
    {
      "cell_type": "code",
      "source": [
        "checkpoints = torch.load(\"/content/drive/MyDrive/pytorch/practise/rcnn/five_epoch.pth.tar\")\n",
        "model.load_state_dict(checkpoints[\"model_state\"])"
      ],
      "metadata": {
        "colab": {
          "base_uri": "https://localhost:8080/"
        },
        "id": "1We_x-jAUIZp",
        "outputId": "7aa869c4-f9ca-4950-cffd-ca46c22807e2"
      },
      "execution_count": null,
      "outputs": [
        {
          "output_type": "execute_result",
          "data": {
            "text/plain": [
              "<All keys matched successfully>"
            ]
          },
          "metadata": {},
          "execution_count": 102
        }
      ]
    },
    {
      "cell_type": "code",
      "execution_count": null,
      "metadata": {
        "colab": {
          "base_uri": "https://localhost:8080/"
        },
        "id": "0HIwoqLzbpuS",
        "outputId": "69efae28-1986-4ec3-8cc6-c829c36b16a7"
      },
      "outputs": [
        {
          "output_type": "execute_result",
          "data": {
            "text/plain": [
              "R_Layer(\n",
              "  (layer1): Linear(in_features=512, out_features=4, bias=True)\n",
              ")"
            ]
          },
          "metadata": {},
          "execution_count": 25
        }
      ],
      "source": [
        "model.to(device)\n",
        "c_lay.to(device)\n",
        "r_lay.to(device)"
      ]
    },
    {
      "cell_type": "code",
      "execution_count": null,
      "metadata": {
        "id": "V1we2Agjbvf6"
      },
      "outputs": [],
      "source": [
        "loss_fn_cls = nn.BCELoss()\n",
        "loss_fn_reg = nn.MSELoss()\n",
        "optimizer1 = torch.optim.SGD(model.parameters() , lr = 0.001)\n",
        "optimizer2 = torch.optim.SGD(c_lay.parameters() , lr = 0.001)\n",
        "optimizer3 = torch.optim.SGD(r_lay.parameters() , lr = 0.001)"
      ]
    },
    {
      "cell_type": "code",
      "execution_count": null,
      "metadata": {
        "id": "nu_09QBTeMF8"
      },
      "outputs": [],
      "source": [
        "num_epochs = 1\n",
        "model.train()\n",
        "all_losses = []\n",
        "for epoch in range(num_epochs):\n",
        "  epoch_loss = 0\n",
        "  count = -1\n",
        "  for i in train_img_inds:\n",
        "    count += 1\n",
        "    img = cv2.imread(\"/content/Chess Detection/images/\" + imgs[i])\n",
        "    img = cv2.resize(img , (500 , 281))\n",
        "    whites , blacks , negs = img_to_prop[imgs[i]]\n",
        "    min_len = min(len(whites) , len(blacks))\n",
        "    if len(whites) + len(blacks) < 200:\n",
        "      white_inds = list(range(len(whites)))\n",
        "      black_inds = list(range(len(blacks)))\n",
        "    else:\n",
        "      if min_len == len(whites):\n",
        "        white_inds = list(range(len(whites)))\n",
        "        black_inds = np.random.choice(range(0 , len(blacks)) , (max(min_len , 1)) , replace = False)\n",
        "      else:\n",
        "        black_inds = list(range(len(blacks)))\n",
        "        white_inds = np.random.choice(range(0 , len(whites)) , (max(min_len , 1)) , replace = False)\n",
        "    neg_inds = np.random.choice(range(0 , len(negs)) , (max(min_len , 1)) , replace = False)\n",
        "    tens = None\n",
        "    coords = None\n",
        "    for inds in white_inds:\n",
        "      (xr , yr , wr , hr) , (xt , yt , xft , yft) = whites[inds]\n",
        "      if coords is None:\n",
        "        coords = torch.tensor([xt , yt , xft - xt , yft - yt])[None , ...]\n",
        "      else:\n",
        "        coords = torch.vstack([coords , torch.tensor([xt , yt , xft - xt , yft - yt])])\n",
        "      temp = torch.from_numpy(cv2.resize(img[yr : yr + hr , xr : xr + wr] , (244 , 244)))[None , ...]\n",
        "      if tens is None:\n",
        "        tens = temp\n",
        "      else:\n",
        "        tens = torch.cat([tens , temp] , dim = 0)\n",
        "    for inds in black_inds:\n",
        "      (xr , yr , wr , hr) , (xt , yt , xft , yft) = blacks[inds]\n",
        "      if coords is None:\n",
        "        coords = torch.tensor([xt , yt , xft - xt , yft - yt])[None , ...]\n",
        "      else:\n",
        "        coords = torch.vstack([coords , torch.tensor([xt , yt , xft - xt , yft - yt])])\n",
        "      temp = torch.from_numpy(cv2.resize(img[yr : yr + hr , xr : xr + wr] , (244 , 244)))[None , ...]\n",
        "      if tens is None:\n",
        "        tens = temp\n",
        "      else:\n",
        "        tens = torch.cat([tens , temp] , dim = 0)\n",
        "    for inds in neg_inds:\n",
        "      (xr , yr , wr , hr) , (xt , yt , xft , yft) = negs[inds]\n",
        "      temp = torch.from_numpy(cv2.resize(img[yr : yr + hr , xr : xr + wr] , (244 , 244)))[None , ...]\n",
        "      tens = torch.cat([tens , temp] , dim = 0)\n",
        "    labels = torch.cat([torch.ones(len(white_inds)) , \n",
        "                        torch.ones(len(black_inds)) * 2 , \n",
        "                        torch.zeros(len(neg_inds))] , dim = 0).float()\n",
        "    coords = coords.float()\n",
        "    \n",
        "    #training\n",
        "    output_feat = model(tens.permute(0 , 3 , 1 , 2).float())\n",
        "    cls_out = c_lay(output_feat)\n",
        "    reg_out = r_lay(output_feat)\n",
        "    loss_cls = loss_fn_cls(cls_out.squeeze() , labels.squeeze())\n",
        "    loss_reg = loss_fn_reg(reg_out[:coords.shape[0] , ] , coords)\n",
        "\n",
        "    loss = loss_cls + loss_reg\n",
        "\n",
        "    epoch_loss += loss.cpu().detach().numpy()\n",
        "\n",
        "    optimizer1.zero_grad()\n",
        "    optimizer2.zero_grad()\n",
        "    optimizer3.zero_grad()\n",
        "    loss.backward()\n",
        "    optimizer1.step()\n",
        "    optimizer2.step()\n",
        "    optimizer3.step()\n",
        "    print(count  ,\"image done\")\n",
        "  all_losses.append(epoch_loss)\n"
      ]
    },
    {
      "cell_type": "code",
      "execution_count": null,
      "metadata": {
        "id": "ehI5zmRZ5vSy"
      },
      "outputs": [],
      "source": [
        "checkpoints = {\"model_state\" : model.state_dict() , \n",
        "               \"optimizer1_state\" : optimizer1.state_dict() , \n",
        "               \"optimizer2_state\" : optimizer2.state_dict() ,\n",
        "               \"optimizer3_state\" : optimizer3.state_dict()}\n",
        "torch.save(checkpoints , \"five_epoch.pth.tar\")"
      ]
    },
    {
      "cell_type": "code",
      "source": [
        "!mv /content/five_epoch.pth.tar /content/drive/MyDrive/pytorch/practise/rcnn"
      ],
      "metadata": {
        "id": "z9T9loht3HjL"
      },
      "execution_count": null,
      "outputs": []
    },
    {
      "cell_type": "code",
      "source": [
        "!mv /content/data.pkl /content/drive/MyDrive/pytorch/practise/rcnn"
      ],
      "metadata": {
        "id": "jrjKsEUc36eh"
      },
      "execution_count": null,
      "outputs": []
    },
    {
      "cell_type": "code",
      "source": [
        "all_whites = []\n",
        "all_blacks = []\n",
        "all_negs = []\n",
        "model.eval()\n",
        "with torch.no_grad():\n",
        "  for i in train_img_inds:\n",
        "    img = cv2.imread(\"/content/Chess Detection/images/\" + imgs[i])\n",
        "    img = cv2.resize(img , (500 , 281))\n",
        "    whites , blacks , negs = img_to_prop[imgs[i]]\n",
        "    for (xr , yr , wr , hr) , (xt , yt , xft , yft) in whites:\n",
        "      cropped = cv2.resize(img[yr : yr + hr , xr : xr + wr] , (224 , 224))\n",
        "      torch_img = torch.from_numpy(cropped)[None , ...]\n",
        "      output = model(torch_img.permute(0 , 3 , 1 , 2).float())\n",
        "      all_whites.append(output.squeeze().detach().numpy())\n",
        "    for (xr , yr , wr , hr) , (xt , yt , xft , yft) in blacks:\n",
        "      cropped = cv2.resize(img[yr : yr + hr , xr : xr + wr] , (224 , 224))\n",
        "      torch_img = torch.from_numpy(cropped)[None , ...]\n",
        "      output = model(torch_img.permute(0 , 3 , 1 , 2).float())\n",
        "      all_blacks.append(output.squeeze().detach().numpy())\n",
        "    num = min(len(negs) , max(len(whites) , len(blacks)))\n",
        "    negs_inds = np.random.choice(range(0 , len(negs)) , num , replace = False)\n",
        "    for j in negs_inds:\n",
        "      (xr , yr , wr , hr) , (xt , yt , xft , yft) = negs[j]\n",
        "      cropped = cv2.resize(img[yr : yr + hr , xr : xr + wr] , (224 , 224))\n",
        "      torch_img = torch.from_numpy(cropped)[None , ...]\n",
        "      output = model(torch_img.permute(0 , 3 , 1 , 2).float())\n",
        "      all_negs.append(output.squeeze().detach().numpy())\n",
        "    print(i , \" img done\")"
      ],
      "metadata": {
        "id": "AISny7KKYd1l"
      },
      "execution_count": null,
      "outputs": []
    },
    {
      "cell_type": "code",
      "source": [
        "all_whites"
      ],
      "metadata": {
        "id": "D0G2IxueXdbn"
      },
      "execution_count": null,
      "outputs": []
    },
    {
      "cell_type": "code",
      "source": [
        "all_val_whites = []\n",
        "all_val_blacks = []\n",
        "all_val_negs = []\n",
        "model.eval()\n",
        "with torch.no_grad():\n",
        "  for i in val_img_inds:\n",
        "    img = cv2.imread(\"/content/Chess Detection/images/\" + imgs[i])\n",
        "    img = cv2.resize(img , (500 , 281))\n",
        "    whites , blacks , negs = img_to_prop[imgs[i]]\n",
        "    for (xr , yr , wr , hr) , (xt , yt , xft , yft) in whites:\n",
        "      cropped = cv2.resize(img[yr : yr + hr , xr : xr + wr] , (224 , 224))\n",
        "      torch_img = torch.from_numpy(cropped)[None , ...]\n",
        "      output = model(torch_img.permute(0 , 3 , 1 , 2).float())\n",
        "      all_val_whites.append(output.squeeze().detach().numpy())\n",
        "    for (xr , yr , wr , hr) , (xt , yt , xft , yft) in blacks:\n",
        "      cropped = cv2.resize(img[yr : yr + hr , xr : xr + wr] , (224 , 224))\n",
        "      torch_img = torch.from_numpy(cropped)[None , ...]\n",
        "      output = model(torch_img.permute(0 , 3 , 1 , 2).float())\n",
        "      all_val_blacks.append(output.squeeze().detach().numpy())\n",
        "    num = min(len(negs) , max(len(whites) , len(blacks)))\n",
        "    negs_inds = np.random.choice(range(0 , len(negs)) , num , replace = False)\n",
        "    for j in negs_inds:\n",
        "      (xr , yr , wr , hr) , (xt , yt , xft , yft) = negs[j]\n",
        "      cropped = cv2.resize(img[yr : yr + hr , xr : xr + wr] , (224 , 224))\n",
        "      torch_img = torch.from_numpy(cropped)[None , ...]\n",
        "      output = model(torch_img.permute(0 , 3 , 1 , 2).float())\n",
        "      all_val_negs.append(output.squeeze().detach().numpy())\n",
        "    print(i , \" img done\")"
      ],
      "metadata": {
        "id": "a1-XnPqmzTyU"
      },
      "execution_count": null,
      "outputs": []
    },
    {
      "cell_type": "code",
      "source": [
        "clf_white = svm.SVC()\n",
        "clf_black = svm.SVC()"
      ],
      "metadata": {
        "id": "HgAcuoIc3-46"
      },
      "execution_count": null,
      "outputs": []
    },
    {
      "cell_type": "code",
      "source": [
        "#training whites\n",
        "nw = len(all_whites)\n",
        "rest = np.random.choice(range(0 , max(nw , len(all_blacks + all_negs))) , nw , replace = False)\n",
        "df_rest = np.vstack([all_blacks , all_negs])[rest]\n",
        "white_df = pd.DataFrame(np.vstack([np.array(all_whites) , df_rest]))\n",
        "targs = np.hstack([np.ones(nw) , np.zeros(nw)])\n",
        "for i in range(5):\n",
        "  clf_white.fit(white_df , targs)\n",
        "  pred = clf_white.predict(white_df)\n",
        "  print((pred == targs).sum() / targs.shape[0])"
      ],
      "metadata": {
        "colab": {
          "base_uri": "https://localhost:8080/"
        },
        "id": "XIBjmfXO4TQ5",
        "outputId": "a87e455a-c373-44de-a89b-43ff56e476db"
      },
      "execution_count": null,
      "outputs": [
        {
          "output_type": "stream",
          "name": "stdout",
          "text": [
            "0.8276497695852535\n",
            "0.8276497695852535\n",
            "0.8276497695852535\n",
            "0.8276497695852535\n",
            "0.8276497695852535\n"
          ]
        }
      ]
    },
    {
      "cell_type": "code",
      "source": [
        "#training blacks\n",
        "nw = len(all_blacks)\n",
        "rest = np.random.choice(range(0 , max(nw , len(all_whites + all_negs))) , nw , replace = False)\n",
        "df_rest = np.vstack([all_whites , all_negs])[rest]\n",
        "black_df = pd.DataFrame(np.vstack([np.array(all_blacks) , df_rest]))\n",
        "targs = np.hstack([np.ones(nw) , np.zeros(nw)])\n",
        "for i in range(5):\n",
        "  clf_black.fit(black_df , np.hstack([np.ones(nw) , np.zeros(nw)]))\n",
        "  pred = clf_black.predict(black_df)\n",
        "  print((pred == targs).sum() / targs.shape[0])"
      ],
      "metadata": {
        "colab": {
          "base_uri": "https://localhost:8080/"
        },
        "id": "jXi1gHnLCryn",
        "outputId": "68f66a7f-9272-45a5-e59c-feb61709beb6"
      },
      "execution_count": null,
      "outputs": [
        {
          "output_type": "stream",
          "name": "stdout",
          "text": [
            "0.9310557094490612\n",
            "0.9310557094490612\n",
            "0.9310557094490612\n",
            "0.9310557094490612\n",
            "0.9310557094490612\n"
          ]
        }
      ]
    },
    {
      "cell_type": "code",
      "source": [
        "#testing whites\n",
        "stack_whites = np.vstack([all_val_whites , all_val_blacks , all_val_negs])\n",
        "real_targs = np.hstack([np.ones(len(all_val_whites)) , np.zeros(len(all_val_blacks) + len(all_val_negs))])\n",
        "pred = clf_white.predict(pd.DataFrame(stack_whites))\n",
        "(pred == real_targs).sum() / real_targs.shape[0]"
      ],
      "metadata": {
        "colab": {
          "base_uri": "https://localhost:8080/"
        },
        "id": "Nxtsdm23Ayly",
        "outputId": "3be0b8ac-a5e1-46bf-8028-fd5192c00808"
      },
      "execution_count": null,
      "outputs": [
        {
          "output_type": "execute_result",
          "data": {
            "text/plain": [
              "0.7313624678663239"
            ]
          },
          "metadata": {},
          "execution_count": 107
        }
      ]
    },
    {
      "cell_type": "code",
      "source": [
        "#testing blacks\n",
        "stack_blacks = np.vstack([all_val_blacks , all_val_whites , all_val_negs])\n",
        "real_targs = np.hstack([np.ones(len(all_val_blacks)) , np.zeros(len(all_val_whites) + len(all_val_negs))])\n",
        "pred = clf_black.predict(pd.DataFrame(stack_blacks))\n",
        "(pred == real_targs).sum() / real_targs.shape[0]"
      ],
      "metadata": {
        "colab": {
          "base_uri": "https://localhost:8080/"
        },
        "id": "KReXuqFtCEiD",
        "outputId": "72e143b9-50c3-4725-e7b9-63ae096f4cde"
      },
      "execution_count": null,
      "outputs": [
        {
          "output_type": "execute_result",
          "data": {
            "text/plain": [
              "0.9370179948586118"
            ]
          },
          "metadata": {},
          "execution_count": 108
        }
      ]
    },
    {
      "cell_type": "code",
      "source": [
        "#teating on training set for whites\n",
        "nw = len(all_whites)\n",
        "rest = np.random.choice(range(0 , max(nw , len(all_blacks + all_negs))) , nw , replace = False)\n",
        "df_rest = np.vstack([all_blacks , all_negs])[rest]\n",
        "white_df = pd.DataFrame(np.vstack([np.array(all_whites) , df_rest]))\n",
        "pred = clf_white.predict(white_df) # , np.hstack([np.ones(nw) , np.zeros(nw)])\n",
        "targs = np.hstack([np.ones(nw) , np.zeros(nw)])\n",
        "(pred == targs).sum() / targs.shape[0]"
      ],
      "metadata": {
        "colab": {
          "base_uri": "https://localhost:8080/"
        },
        "id": "Gxh9hc-mGG4g",
        "outputId": "8e08b9c1-8387-439c-9241-c0c380280503"
      },
      "execution_count": null,
      "outputs": [
        {
          "output_type": "execute_result",
          "data": {
            "text/plain": [
              "0.8290322580645161"
            ]
          },
          "metadata": {},
          "execution_count": 109
        }
      ]
    },
    {
      "cell_type": "code",
      "source": [
        "#testing on training set for blacks\n",
        "nw = len(all_blacks)\n",
        "rest = np.random.choice(range(0 , max(nw , len(all_whites + all_negs))) , nw , replace = False)\n",
        "df_rest = np.vstack([all_whites , all_negs])[rest]\n",
        "black_df = pd.DataFrame(np.vstack([np.array(all_blacks) , df_rest]))\n",
        "pred = clf_black.predict(black_df) # , np.hstack([np.ones(nw) , np.zeros(nw)])\n",
        "targs = np.hstack([np.ones(nw) , np.zeros(nw)])\n",
        "(pred == targs).sum() / targs.shape[0]"
      ],
      "metadata": {
        "colab": {
          "base_uri": "https://localhost:8080/"
        },
        "id": "RUg_TVvqJ690",
        "outputId": "0db6f885-fadf-4c23-ac6a-a175bfe17ea3"
      },
      "execution_count": null,
      "outputs": [
        {
          "output_type": "execute_result",
          "data": {
            "text/plain": [
              "0.9269005847953217"
            ]
          },
          "metadata": {},
          "execution_count": 110
        }
      ]
    },
    {
      "cell_type": "code",
      "source": [],
      "metadata": {
        "id": "n0a1FRpkKWDk"
      },
      "execution_count": null,
      "outputs": []
    }
  ],
  "metadata": {
    "colab": {
      "collapsed_sections": [],
      "provenance": [],
      "mount_file_id": "1BPIWtJFjiZ2sDQu6qFVpdRqLxh9VUH5r",
      "authorship_tag": "ABX9TyP6cVYs/PUqZ1JpwsNKN1z9",
      "include_colab_link": true
    },
    "kernelspec": {
      "display_name": "Python 3",
      "name": "python3"
    },
    "language_info": {
      "name": "python"
    }
  },
  "nbformat": 4,
  "nbformat_minor": 0
}